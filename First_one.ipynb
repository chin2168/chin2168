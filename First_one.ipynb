{
  "cells": [
    {
      "cell_type": "markdown",
      "metadata": {
        "id": "view-in-github",
        "colab_type": "text"
      },
      "source": [
        "<a href=\"https://colab.research.google.com/github/chin2168/chin2168/blob/main/First_one.ipynb\" target=\"_parent\"><img src=\"https://colab.research.google.com/assets/colab-badge.svg\" alt=\"Open In Colab\"/></a>"
      ]
    },
    {
      "cell_type": "markdown",
      "metadata": {
        "id": "0uBRa-oAnXuO"
      },
      "source": [
        "importing libraries and downloading data"
      ]
    },
    {
      "cell_type": "code",
      "execution_count": null,
      "metadata": {
        "colab": {
          "base_uri": "https://localhost:8080/"
        },
        "id": "qv9ApGWnnNhR",
        "outputId": "696ae905-1f19-42fa-eac8-665b7895744b"
      },
      "outputs": [
        {
          "output_type": "stream",
          "name": "stdout",
          "text": [
            "/content/drive/MyDrive/first66/sign_mnist_train/sign_mnist_train.csv: Scheme missing.\n",
            "/content/drive/MyDrive/first66/sign_mnist_test/sign_mnist_test.csv: Scheme missing.\n"
          ]
        }
      ],
      "source": [
        "import os\n",
        "\n",
        "import pandas as pd\n",
        "from sklearn.model_selection import train_test_split\n",
        "from sklearn.preprocessing import StandardScaler\n",
        "from sklearn.decomposition import PCA\n",
        "from sklearn.metrics import accuracy_score\n",
        "\n",
        "\n",
        "\n",
        "# Download Sign Language MNIST dataset\n",
        "!wget /content/drive/MyDrive/first66/sign_mnist_train/sign_mnist_train.csv\n",
        "!wget /content/drive/MyDrive/first66/sign_mnist_test/sign_mnist_test.csv\n",
        "\n",
        "# Read data into DataFrames\n",
        "train_df = pd.read_csv(\"/content/drive/MyDrive/first66/sign_mnist_train/sign_mnist_train.csv\")\n",
        "test_df = pd.read_csv(\"/content/drive/MyDrive/first66/sign_mnist_test/sign_mnist_test.csv\")\n",
        "\n",
        "\n",
        "# Extract features and labels\n",
        "X_train, X_test, y_train, y_test = train_test_split(train_df.iloc[:, 1:], train_df[\"label\"], test_size=0.2, random_state=42)\n",
        "\n",
        "# Standardize features\n",
        "scaler = StandardScaler()\n",
        "X_train = scaler.fit_transform(X_train)\n",
        "X_test = scaler.transform(X_test)\n"
      ]
    },
    {
      "cell_type": "markdown",
      "metadata": {
        "id": "CYvL55L8nkjD"
      },
      "source": [
        "Define Feature Extraction Functions"
      ]
    },
    {
      "cell_type": "code",
      "execution_count": null,
      "metadata": {
        "id": "qhsVDI6jnpSe"
      },
      "outputs": [],
      "source": [
        "def extract_pca_features(X, n_components):\n",
        "    pca = PCA(n_components=n_components)\n",
        "    pca.fit(X)\n",
        "    return pca.transform(X)\n",
        "\n",
        "def extract_hog_features(X, cell_size=(8, 8), orientations=9):\n",
        "    hog = cv2.HOGDescriptor(cell_size, orientations)\n",
        "    features = []\n",
        "    for image in X:\n",
        "        features.append(hog.compute(image.reshape(28, 28)))\n",
        "    return np.array(features)\n"
      ]
    },
    {
      "cell_type": "markdown",
      "metadata": {
        "id": "xmCifPjwnsT4"
      },
      "source": [
        "Implement Classification Algorithms"
      ]
    },
    {
      "cell_type": "code",
      "execution_count": null,
      "metadata": {
        "id": "crYJA_ufnuuK"
      },
      "outputs": [],
      "source": [
        "\n",
        "from sklearn.svm import SVC\n",
        "\n",
        "from sklearn.mixture import GaussianMixture\n",
        "\n",
        "from sklearn.neural_network import MLPClassifier\n",
        "\n",
        "# Define dictionary to store models and their names\n",
        "models = {\n",
        "\n",
        "    \"SVM\": SVC(kernel=\"linear\"),\n",
        "\n",
        "    \"GMM\": GaussianMixture(n_components=10),\n",
        "\n",
        "    \"ANN\": MLPClassifier(alpha=0.01, hidden_layer_sizes=(128, 64), solver=\"adam\", random_state=42),\n",
        "}\n"
      ]
    },
    {
      "cell_type": "code",
      "source": [
        "# Define empty dictionary to store results\n",
        "results = {}\n",
        "\n",
        "# Loop through feature extraction techniques and classification algorithms\n",
        "for feature_extractor, extract_fn in zip([\"PCA\"], [extract_pca_features, extract_hog_features]):\n",
        "    # Extract features for train and test sets\n",
        "    X_train_features = extract_fn(X_train, 128)\n",
        "    X_test_features = extract_fn(X_test, 128)\n",
        "\n",
        "    # Train and test models for different algorithms\n",
        "    model_accuracies = {}\n",
        "    for model_name, model in models.items():\n",
        "        model.fit(X_train_features, y_train)\n",
        "        y_pred = model.predict(X_test_features)\n",
        "        accuracy = accuracy_score(y_test, y_pred)\n",
        "        model_accuracies[model_name] = accuracy\n",
        "\n",
        "    # Store results for each feature extractor\n",
        "    results[feature_extractor] = model_accuracies\n",
        "\n",
        "# Print accuracy table with header\n",
        "print(\"Accuracy Table:\")\n",
        "print(f\"{'Feature Extractor':10s} | {'Model Name':10s} | {'Accuracy':10s}\")\n",
        "for feature_extractor, model_accuracies in results.items():\n",
        "    print(f\"{feature_extractor:10s} |\", end=\"\")\n",
        "    for model_name, accuracy in model_accuracies.items():\n",
        "        print(f\"{model_name:10s} | {accuracy:.4f}\", end=\"  \")\n",
        "    print(\"\")\n",
        "\n",
        "# Plot accuracy graph (optional)\n",
        "# ...\n"
      ],
      "metadata": {
        "colab": {
          "base_uri": "https://localhost:8080/"
        },
        "id": "EkvHcm9g1w9S",
        "outputId": "35b7d32c-e385-418b-b36f-834c0a61f480"
      },
      "execution_count": null,
      "outputs": [
        {
          "output_type": "stream",
          "name": "stdout",
          "text": [
            "Accuracy Table:\n",
            "Feature Extractor | Model Name | Accuracy  \n",
            "PCA        |SVM        | 0.2052  GMM        | 0.0351  ANN        | 0.2167  \n"
          ]
        }
      ]
    },
    {
      "cell_type": "markdown",
      "metadata": {
        "id": "5mzSJrJ1nvvP"
      },
      "source": [
        " Evaluate and Compare Models"
      ]
    },
    {
      "cell_type": "code",
      "execution_count": null,
      "metadata": {
        "colab": {
          "base_uri": "https://localhost:8080/"
        },
        "id": "9BDLBw9UvhYE",
        "outputId": "90b4bd1e-6f60-4899-d896-531fb95e467c"
      },
      "outputs": [
        {
          "output_type": "stream",
          "name": "stdout",
          "text": [
            "Requirement already satisfied: scikit-learn in /usr/local/lib/python3.10/dist-packages (1.2.2)\n",
            "Requirement already satisfied: numpy>=1.17.3 in /usr/local/lib/python3.10/dist-packages (from scikit-learn) (1.23.5)\n",
            "Requirement already satisfied: scipy>=1.3.2 in /usr/local/lib/python3.10/dist-packages (from scikit-learn) (1.11.4)\n",
            "Requirement already satisfied: joblib>=1.1.1 in /usr/local/lib/python3.10/dist-packages (from scikit-learn) (1.3.2)\n",
            "Requirement already satisfied: threadpoolctl>=2.0.0 in /usr/local/lib/python3.10/dist-packages (from scikit-learn) (3.2.0)\n",
            "Requirement already satisfied: opencv-python in /usr/local/lib/python3.10/dist-packages (4.8.0.76)\n",
            "Requirement already satisfied: numpy>=1.21.2 in /usr/local/lib/python3.10/dist-packages (from opencv-python) (1.23.5)\n"
          ]
        }
      ],
      "source": [
        "!pip install scikit-learn\n",
        "!pip install opencv-python\n",
        "\n"
      ]
    }
  ],
  "metadata": {
    "accelerator": "TPU",
    "colab": {
      "provenance": [],
      "mount_file_id": "1KFF6ggGLqMKuarspf_QXM8DzCKaKUez5",
      "authorship_tag": "ABX9TyNy4w9UojU9WFN7Kdlxg6oI",
      "include_colab_link": true
    },
    "kernelspec": {
      "display_name": "Python 3",
      "name": "python3"
    },
    "language_info": {
      "name": "python"
    }
  },
  "nbformat": 4,
  "nbformat_minor": 0
}